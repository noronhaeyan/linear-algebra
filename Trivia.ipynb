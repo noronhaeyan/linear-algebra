{
 "cells": [
  {
   "cell_type": "markdown",
   "id": "a050a733",
   "metadata": {},
   "source": [
    "# Positive Definite Matrices"
   ]
  },
  {
   "cell_type": "markdown",
   "id": "373d3690",
   "metadata": {},
   "source": [
    "A matrix $M$ is positive definite if and only if it satisfies any of the following equivalent conditions.\n",
    "\n",
    "1. $M$ is congruent with a diagonal matrix with positive real entries\n",
    "2. $M$ is symmetric or Hermitian, and all its eigenvalues are real and positive\n",
    "3. $M$ is symmetric or Hermitian, and all its leading principal minors are positive\n",
    "4. There exists an invertible matrix $B$ with conjugate transpose $B^*$ such that $M = B^*B$\n",
    "\n"
   ]
  },
  {
   "cell_type": "markdown",
   "id": "bc3d99c4",
   "metadata": {},
   "source": [
    "What are the principle minors of a matrix?\n",
    "\n",
    " A minor of a matrix $A$ is principle if it obtained by deleting $n-k$ rows and the $n-k$ columns with the same numbers. The leading principle minor of order $k$ is the minor of order $k$ obtained by deleting the last $n-k$ rows and columns.\n",
    "\n",
    "$D_k$ : leading principle minor \n",
    "\n",
    "$\\Delta_k$ : principle minor\n",
    "\n",
    "Let $A$ be a symmetric $n\\times n$ matrix:\n",
    "\n",
    "1. $A$ is positive definite $\\Longleftrightarrow$ $D_k > 0$\n",
    "2. $A$ is negative definite $\\Longleftrightarrow$ $ (-1)^k D_k > 0$\n",
    "3. $A$ is positive semi-definite $\\Longleftrightarrow$ $\\Delta_k > 0$\n",
    "4. $A$ is negative semi-definite $\\Longleftrightarrow$ $ (-1)^k \\Delta_k > 0$"
   ]
  }
 ],
 "metadata": {
  "kernelspec": {
   "display_name": "Python 3 (ipykernel)",
   "language": "python",
   "name": "python3"
  },
  "language_info": {
   "codemirror_mode": {
    "name": "ipython",
    "version": 3
   },
   "file_extension": ".py",
   "mimetype": "text/x-python",
   "name": "python",
   "nbconvert_exporter": "python",
   "pygments_lexer": "ipython3",
   "version": "3.9.2"
  }
 },
 "nbformat": 4,
 "nbformat_minor": 5
}
